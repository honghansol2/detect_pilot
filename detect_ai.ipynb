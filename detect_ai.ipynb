{
 "cells": [
  {
   "cell_type": "markdown",
   "source": [
    "## boiler plate"
   ],
   "metadata": {
    "collapsed": false,
    "pycharm": {
     "name": "#%% md\n"
    }
   }
  },
  {
   "cell_type": "code",
   "execution_count": 20,
   "outputs": [],
   "source": [
    "import os\n",
    "import warnings\n",
    "import pandas as pd\n",
    "import tensorflow as tf\n",
    "import numpy as np\n",
    "import random\n",
    "import torch\n",
    "import random as rn\n",
    "from keras import backend as K\n",
    "from util.som import Som\n",
    "from pylab import plot, axis, show, pcolor, colorbar, bone\n",
    "\n",
    "def set_seed_():\n",
    "\n",
    "    seed_num = 42\n",
    "    np.random.seed(seed_num)\n",
    "    rn.seed(seed_num)\n",
    "    tf.random.set_seed(seed_num)\n",
    "    session_conf = tf.compat.v1.ConfigProto(intra_op_parallelism_threads=1,\n",
    "                                            inter_op_parallelism_threads=1)\n",
    "    sess = tf.compat.v1.Session(graph=tf.compat.v1.get_default_graph(), config=session_conf)\n",
    "    K.set_session(sess)\n",
    "\n",
    "\n",
    "class config:\n",
    "    seed = 42\n",
    "    device = \"cuda:0\"\n",
    "\n",
    "    lr = 1e-3\n",
    "    epochs = 25\n",
    "    batch_size = 32\n",
    "    num_workers = 4\n",
    "    train_5_folds = True\n",
    "\n",
    "\n",
    "def seed_everything_tc(seed: int = 42):  # torch\n",
    "    random.seed(seed)\n",
    "    np.random.seed(seed)\n",
    "    os.environ[\"PYTHONHASHSEED\"] = str(seed)\n",
    "    torch.manual_seed(seed)\n",
    "    torch.cuda.manual_seed(seed)  # type: ignore\n",
    "    torch.backends.cudnn.deterministic = True  # type: ignore\n",
    "    torch.backends.cudnn.benchmark = True  # type: ignore\n",
    "\n",
    "\n",
    "def seed_everything_ts(seed: int = 42):  # tensorflow\n",
    "    random.seed(seed)\n",
    "    np.random.seed(seed)\n",
    "    os.environ[\"PYTHONHASHSEED\"] = str(seed)\n",
    "    tf.random.set_seed(seed)\n",
    "\n",
    "# boiler plate\n",
    "warnings.filterwarnings(action = 'ignore')\n",
    "seed_everything_ts(config.seed)\n",
    "root_path = '/Users/hansolhong/PycharmProjects/data'\n",
    "input_path = 'detect_pilot/input'\n",
    "output_path = 'detect_pilot/output'\n",
    "\n",
    "tr_df = pd.read_csv(os.path.join(root_path, input_path, 'train.csv'))\n",
    "te_df = pd.read_csv(os.path.join(root_path, input_path, 'test.csv'))\n",
    "va_df = pd.read_csv(os.path.join(root_path, input_path, 'val.csv'))\n",
    "sa_df = pd.read_csv(os.path.join(root_path, input_path, 'sample_submission.csv'))"
   ],
   "metadata": {
    "collapsed": false,
    "pycharm": {
     "name": "#%%\n"
    }
   }
  },
  {
   "cell_type": "code",
   "execution_count": 21,
   "outputs": [
    {
     "name": "stdout",
     "output_type": "stream",
     "text": [
      "            ID         V1         V2        V3        V4        V5        V6  \\\n",
      "0            3  -1.358354  -1.340163  1.773209  0.379780 -0.503198  1.800499   \n",
      "1            4  -0.966272  -0.185226  1.792993 -0.863291 -0.010309  1.247203   \n",
      "2            6  -0.425966   0.960523  1.141109 -0.168252  0.420987 -0.029728   \n",
      "3            8  -0.644269   1.417964  1.074380 -0.492199  0.948934  0.428118   \n",
      "4            9  -0.894286   0.286157 -0.113192 -0.271526  2.669599  3.721818   \n",
      "...        ...        ...        ...       ...       ...       ...       ...   \n",
      "113837  284796 -12.516732  10.187818 -8.476671 -2.510473 -4.586669 -1.394465   \n",
      "113838  284797   1.884849  -0.143540 -0.999943  1.506772 -0.035300 -0.613638   \n",
      "113839  284798  -0.241923   0.712247  0.399806 -0.463406  0.244531 -1.343668   \n",
      "113840  284802   0.120316   0.931005 -0.546012 -0.745097  1.130314 -0.235973   \n",
      "113841  284803 -11.881118  10.071785 -9.834783 -2.066656 -5.364473 -2.606837   \n",
      "\n",
      "              V7        V8        V9  ...       V21       V22       V23  \\\n",
      "0       0.791461  0.247676 -1.514654  ...  0.247998  0.771679  0.909412   \n",
      "1       0.237609  0.377436 -1.387024  ... -0.108300  0.005274 -0.190321   \n",
      "2       0.476201  0.260314 -0.568671  ... -0.208254 -0.559825 -0.026398   \n",
      "3       1.120631 -3.807864  0.615375  ...  1.943465 -1.015455  0.057504   \n",
      "4       0.370145  0.851084 -0.392048  ... -0.073425 -0.268092 -0.204233   \n",
      "...          ...       ...       ...  ...       ...       ...       ...   \n",
      "113837 -3.632516  5.498583  4.893089  ... -0.944759 -1.565026  0.890675   \n",
      "113838  0.190241 -0.249058  0.666458  ...  0.144008  0.634646 -0.042114   \n",
      "113839  0.929369 -0.206210  0.106234  ... -0.228876 -0.514376  0.279598   \n",
      "113840  0.812722  0.115093 -0.204064  ... -0.314205 -0.808520  0.050343   \n",
      "113841 -4.918215  7.305334  1.914428  ...  0.213454  0.111864  1.014480   \n",
      "\n",
      "             V24       V25       V26       V27       V28       V29       V30  \n",
      "0      -0.689281 -0.327642 -0.139097 -0.055353 -0.059752  4.983721 -0.994972  \n",
      "1      -1.175575  0.647376 -0.221929  0.062723  0.061458  1.418291 -0.994972  \n",
      "2      -0.371427 -0.232794  0.105915  0.253844  0.081080 -0.256131 -0.994960  \n",
      "3      -0.649709 -0.415267 -0.051634 -1.206921 -1.085339  0.262698 -0.994901  \n",
      "4       1.011592  0.373205 -0.384157  0.011747  0.142404  0.994900 -0.994901  \n",
      "...          ...       ...       ...       ...       ...       ...       ...  \n",
      "113837 -1.253276  1.786717  0.320763  2.090712  1.232864 -0.169496  1.034857  \n",
      "113838 -0.053206  0.316403 -0.461441  0.018265 -0.041068  0.530986  1.034881  \n",
      "113839  0.371441 -0.559238  0.113144  0.131507  0.081265 -0.230699  1.034904  \n",
      "113840  0.102800 -0.435870  0.124079  0.217940  0.068803 -0.269825  1.034939  \n",
      "113841 -0.509348  1.436807  0.250034  0.943651  0.823731 -0.296653  1.034951  \n",
      "\n",
      "[113842 rows x 31 columns]\n",
      "             ID        V1        V2        V3        V4        V5        V6  \\\n",
      "0       AAAA0x1 -1.359807 -0.072781  2.536347  1.378155 -0.338321  0.462388   \n",
      "1       AAAA0x2  1.191857  0.266151  0.166480  0.448154  0.060018 -0.082361   \n",
      "2       AAAA0x5 -1.158233  0.877737  1.548718  0.403034 -0.407193  0.095921   \n",
      "3       AAAA0x7  1.229658  0.141004  0.045371  1.202613  0.191881  0.272708   \n",
      "4       AAAA0xc  0.384978  0.616109 -0.874300 -0.094019  2.924584  3.317027   \n",
      "...         ...       ...       ...       ...       ...       ...       ...   \n",
      "142498  0x4587f  0.219529  0.881246 -0.635891  0.960928 -0.152971 -1.014307   \n",
      "142499  0x45880 -1.775135 -0.004235  1.189786  0.331096  1.196063  5.519980   \n",
      "142500  0x45884 -0.732789 -0.055080  2.035030 -0.738589  0.868229  1.058415   \n",
      "142501  0x45885  1.919565 -0.301254 -3.249640 -0.557828  2.630515  3.031260   \n",
      "142502  0x45887 -0.533413 -0.189733  0.703337 -0.506271 -0.012546 -0.649617   \n",
      "\n",
      "              V7        V8        V9  ...       V21       V22       V23  \\\n",
      "0       0.239599  0.098698  0.363787  ... -0.018307  0.277838 -0.110474   \n",
      "1      -0.078803  0.085102 -0.255425  ... -0.225775 -0.638672  0.101288   \n",
      "2       0.592941 -0.270533  0.817739  ... -0.009431  0.798278 -0.137458   \n",
      "3      -0.005159  0.081213  0.464960  ... -0.167716 -0.270710 -0.154104   \n",
      "4       0.470455  0.538247 -0.558895  ...  0.049924  0.238422  0.009130   \n",
      "...          ...       ...       ...  ...       ...       ...       ...   \n",
      "142498  0.427126  0.121340 -0.285670  ...  0.099936  0.337120  0.251791   \n",
      "142499 -1.518185  2.080825  1.159498  ...  0.103302  0.654850 -0.348929   \n",
      "142500  0.024330  0.294869  0.584800  ...  0.214205  0.924384  0.012463   \n",
      "142501 -0.296827  0.708417  0.432454  ...  0.232045  0.578229 -0.037501   \n",
      "142502  1.577006 -0.414650  0.486180  ...  0.261057  0.643078  0.376777   \n",
      "\n",
      "             V24       V25       V26       V27       V28       V29       V30  \n",
      "0       0.066928  0.128539 -0.189115  0.133558 -0.021053  1.783274 -0.994983  \n",
      "1      -0.339846  0.167170  0.125895 -0.008983  0.014724 -0.269825 -0.994983  \n",
      "2       0.141267 -0.206010  0.502292  0.219422  0.215153  0.670579 -0.994960  \n",
      "3      -0.780055  0.750137 -0.257237  0.034507  0.005168 -0.237686 -0.994937  \n",
      "4       0.996710 -0.767315 -0.492208  0.042472 -0.054337 -0.167819 -0.994866  \n",
      "...          ...       ...       ...       ...       ...       ...       ...  \n",
      "142498  0.057688 -1.508368  0.144023  0.181205  0.215243  0.028645  1.034904  \n",
      "142499  0.745323  0.704545 -0.127579  0.454379  0.130308  0.810312  1.034916  \n",
      "142500 -1.016226 -0.606624 -0.395255  0.068472 -0.053527  0.038986  1.034963  \n",
      "142501  0.640134  0.265745 -0.087371  0.004455 -0.026561  0.641096  1.034975  \n",
      "142502  0.008797 -0.473649 -0.818267 -0.002415  0.013649  2.724796  1.035022  \n",
      "\n",
      "[142503 rows x 31 columns]\n",
      "           ID        V1        V2        V3        V4        V5        V6  \\\n",
      "0          10 -0.338262  1.119593  1.044367 -0.222187  0.499361 -0.246761   \n",
      "1          22  0.962496  0.328461 -0.171479  2.109204  1.129566  1.696038   \n",
      "2          63  1.145524  0.575068  0.194008  2.598192 -0.092210 -1.044430   \n",
      "3          69  0.927060 -0.323684  0.387585  0.544474  0.246787  1.650358   \n",
      "4          83 -3.005237  2.600138  1.483691 -2.418473  0.306326 -0.824575   \n",
      "...       ...       ...       ...       ...       ...       ...       ...   \n",
      "28457  284769 -0.546378  1.433992 -0.313252  0.926044  0.522388 -0.565669   \n",
      "28458  284779 -0.764523  0.588379 -0.907599 -0.418847  0.901528 -0.760802   \n",
      "28459  284790 -0.446951  1.302212 -0.168583  0.981577  0.578957 -0.605641   \n",
      "28460  284801  2.039560 -0.175233 -1.196825  0.234580 -0.008713 -0.726571   \n",
      "28461  284806 -0.240440  0.530483  0.702510  0.689799 -0.377961  0.623708   \n",
      "\n",
      "             V7        V8        V9  ...       V22       V23       V24  \\\n",
      "0      0.651583  0.069539 -0.736727  ... -0.633753 -0.120794 -0.385050   \n",
      "1      0.107712  0.521502 -1.191311  ...  0.402492 -0.048508 -1.371866   \n",
      "2      0.531588 -0.241888 -0.896287  ... -0.119703 -0.076510  0.691320   \n",
      "3     -0.427576  0.615371  0.226278  ...  0.079359  0.096632 -0.992569   \n",
      "4      2.065426 -1.829347  4.009259  ... -0.181268 -0.163747  0.515821   \n",
      "...         ...       ...       ...  ...       ...       ...       ...   \n",
      "28457  1.066075  0.269799 -1.099446  ...  0.778817 -0.175451  0.030397   \n",
      "28458  0.758545  0.414698 -0.730854  ... -0.431876  0.141759  0.587119   \n",
      "28459  1.253430 -1.042610 -0.417116  ...  0.305268 -0.148093 -0.038712   \n",
      "28460  0.017050 -0.118228  0.435402  ... -0.717211  0.297930 -0.359769   \n",
      "28461 -0.686180  0.679145  0.392087  ...  0.800049 -0.163298  0.123205   \n",
      "\n",
      "            V25       V26       V27       V28       V29       V30  Class  \n",
      "0     -0.069733  0.094199  0.246219  0.083076 -0.255991 -0.994878      0  \n",
      "1      0.390814  0.199964  0.016371 -0.014605  0.168937 -0.994784      0  \n",
      "2      0.633984  0.048741 -0.053192  0.016251  0.169496 -0.994502      0  \n",
      "3      0.085096  0.377447  0.036096 -0.005960  0.331307 -0.994467      0  \n",
      "4      0.136318  0.460054 -0.251259 -1.105751 -0.287012 -0.994373      0  \n",
      "...         ...       ...       ...       ...       ...       ...    ...  \n",
      "28457  0.018381 -0.395994  0.301655  0.173585  0.202753  1.034622      0  \n",
      "28458 -0.200998  0.267337 -0.152951 -0.065285  0.810452  1.034693      0  \n",
      "28459  0.010209 -0.362666  0.503092  0.229921  0.537972  1.034763      0  \n",
      "28460 -0.315610  0.201114 -0.080826 -0.075071 -0.269964  1.034928      0  \n",
      "28461 -0.569159  0.546668  0.108821  0.104533 -0.167680  1.034975      0  \n",
      "\n",
      "[28462 rows x 32 columns]\n",
      "             ID  Class\n",
      "0       AAAA0x1      1\n",
      "1       AAAA0x2      1\n",
      "2       AAAA0x5      1\n",
      "3       AAAA0x7      1\n",
      "4       AAAA0xc      1\n",
      "...         ...    ...\n",
      "142498  0x4587f      1\n",
      "142499  0x45880      1\n",
      "142500  0x45884      1\n",
      "142501  0x45885      1\n",
      "142502  0x45887      1\n",
      "\n",
      "[142503 rows x 2 columns]\n"
     ]
    }
   ],
   "source": [
    "print(tr_df)  # 113842 31\n",
    "print(te_df)  # 142503 31\n",
    "print(va_df)  # 28462 32\n",
    "print(sa_df)  # 142503 2"
   ],
   "metadata": {
    "collapsed": false,
    "pycharm": {
     "name": "#%%\n"
    }
   }
  },
  {
   "cell_type": "markdown",
   "source": [
    "## som"
   ],
   "metadata": {
    "collapsed": false,
    "pycharm": {
     "name": "#%% md\n"
    }
   }
  },
  {
   "cell_type": "code",
   "execution_count": 38,
   "outputs": [],
   "source": [
    "va_df_ = va_df.drop(['ID','Class'], axis = 1)\n",
    "va_df_arr = np.array(va_df_)\n",
    "labels = va_df[['Class']]"
   ],
   "metadata": {
    "collapsed": false,
    "pycharm": {
     "name": "#%%\n"
    }
   }
  },
  {
   "cell_type": "code",
   "execution_count": 33,
   "outputs": [],
   "source": [
    "som = Som(30, 30, 30, sigma = 1.0, learning_rate = .5, random_seed = 3)\n",
    "som.random_weights_init(va_df_arr)\n",
    "som.train_random(va_df_arr, 10000)"
   ],
   "metadata": {
    "collapsed": false,
    "pycharm": {
     "name": "#%%\n"
    }
   }
  },
  {
   "cell_type": "code",
   "execution_count": 34,
   "outputs": [
    {
     "data": {
      "text/plain": "<matplotlib.colorbar.Colorbar at 0x7fbab6348490>"
     },
     "execution_count": 34,
     "metadata": {},
     "output_type": "execute_result"
    },
    {
     "data": {
      "text/plain": "<Figure size 432x288 with 2 Axes>",
      "image/png": "[encoded data removed]"
     },
     "metadata": {
      "needs_background": "light"
     },
     "output_type": "display_data"
    }
   ],
   "source": [
    "bone()\n",
    "pcolor(som.distance_map().T)\n",
    "colorbar()"
   ],
   "metadata": {
    "collapsed": false,
    "pycharm": {
     "name": "#%%\n"
    }
   }
  },
  {
   "cell_type": "code",
   "execution_count": null,
   "outputs": [],
   "source": [
    "# indexing\n",
    "labels[labels.Class == 0] = 0\n",
    "labels[labels.Class == 1] = 1\n",
    "\n",
    "marker = ['o', '.']\n",
    "colors = ['lightgreen', 'red']\n",
    "\n",
    "for cnt, xx in enumerate(va_df_arr):\n",
    "\n",
    "    try:\n",
    "        w = som.winner(xx)\n",
    "        plot(w[0] + .5, w[1] + .5, marker[labels[cnt]],\n",
    "             markerfacecolor='None',\n",
    "             markeredgecolor=colors[labels[cnt]],\n",
    "             markersize=12,\n",
    "             markeredgewidth=2)\n",
    "        axis([0, som.weights.shape[0], 0, som.weights.shape[1]])\n",
    "    except:\n",
    "        pass\n",
    "\n",
    "show()"
   ],
   "metadata": {
    "collapsed": false,
    "pycharm": {
     "name": "#%%\n",
     "is_executing": true
    }
   }
  },
  {
   "cell_type": "code",
   "execution_count": null,
   "outputs": [],
   "source": [],
   "metadata": {
    "collapsed": false,
    "pycharm": {
     "name": "#%%\n"
    }
   }
  }
 ],
 "metadata": {
  "kernelspec": {
   "display_name": "Python 3",
   "language": "python",
   "name": "python3"
  },
  "language_info": {
   "codemirror_mode": {
    "name": "ipython",
    "version": 2
   },
   "file_extension": ".py",
   "mimetype": "text/x-python",
   "name": "python",
   "nbconvert_exporter": "python",
   "pygments_lexer": "ipython2",
   "version": "2.7.6"
  }
 },
 "nbformat": 4,
 "nbformat_minor": 0
}